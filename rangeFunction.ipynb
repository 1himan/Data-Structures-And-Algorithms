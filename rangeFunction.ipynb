{
 "cells": [
  {
   "cell_type": "markdown",
   "metadata": {},
   "source": [
    "So I was solving this Two Sum problem on neetcode. But whilest doing so I found something new about the range function in python. Though I knew this before but this is the time I'm documenting it.\n",
    "\n",
    "- The first thing is that its able to generate values \"on the fly\"\n",
    "This concept is also known as \"lazy evaluation\". Instead of creating and storing the entire list of numbers in memory, range() generates each number as needed, which saves memory and improves efficiency, especially for large sequences.\n",
    "\n",
    "For example"
   ]
  },
  {
   "cell_type": "code",
   "execution_count": 1,
   "metadata": {},
   "outputs": [
    {
     "name": "stdout",
     "output_type": "stream",
     "text": [
      "range(0, 10)\n"
     ]
    },
    {
     "ename": "",
     "evalue": "",
     "output_type": "error",
     "traceback": [
      "\u001b[1;31mThe Kernel crashed while executing code in the current cell or a previous cell. \n",
      "\u001b[1;31mPlease review the code in the cell(s) to identify a possible cause of the failure. \n",
      "\u001b[1;31mClick <a href='https://aka.ms/vscodeJupyterKernelCrash'>here</a> for more info. \n",
      "\u001b[1;31mView Jupyter <a href='command:jupyter.viewOutput'>log</a> for further details."
     ]
    }
   ],
   "source": [
    "print(range(10))"
   ]
  },
  {
   "cell_type": "markdown",
   "metadata": {},
   "source": [
    "So print(range(10)) doesn't show a sequence of numbers right? It doesn't generate a list of numbers but rather an object which knows how to generate the numbers when you iterate over it.\n",
    "\n",
    "But the question is that why the fuck do we even use this range(), what's the point and the advantage?\n",
    "\n",
    "- Memory Efficiency: It generates numbers on-the-fly without storing the entire sequence in memory.\n",
    "- Convenience: It's a concise and readable way to generate sequences of numbers.\n",
    "Imagine you want to loop from 0 to 1,000,000. Using range(1000000) ensures you don't need to store all those numbers in memory at once."
   ]
  }
 ],
 "metadata": {
  "kernelspec": {
   "display_name": "Python 3",
   "language": "python",
   "name": "python3"
  },
  "language_info": {
   "codemirror_mode": {
    "name": "ipython",
    "version": 3
   },
   "file_extension": ".py",
   "mimetype": "text/x-python",
   "name": "python",
   "nbconvert_exporter": "python",
   "pygments_lexer": "ipython3",
   "version": "3.11.6"
  }
 },
 "nbformat": 4,
 "nbformat_minor": 2
}
