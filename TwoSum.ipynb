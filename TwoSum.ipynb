{
 "cells": [
  {
   "cell_type": "markdown",
   "metadata": {},
   "source": [
    "The below is my approach:"
   ]
  },
  {
   "cell_type": "code",
   "execution_count": 1,
   "metadata": {},
   "outputs": [],
   "source": [
    "from typing import List\n",
    "class Solution:\n",
    "    def twoSum(self, nums: List[int], target: int) -> List[int]:\n",
    "        loop=len(nums)\n",
    "        for i in range(loop):\n",
    "            for j in range(i+1,loop):\n",
    "                if nums[i]+nums[j]==target:\n",
    "                    return [i,j]"
   ]
  },
  {
   "cell_type": "markdown",
   "metadata": {},
   "source": [
    "Enumerate Appproach:\n",
    "And fuck man this approach is just too good. I mean we are taking one digit at a time taking its complement out of the target num by subtracting it from the target and then we're searching for the complement in the num_map and if its not found then we add it to the num_map and move on to next digit. \n",
    "Damn this is just too good."
   ]
  },
  {
   "cell_type": "code",
   "execution_count": 2,
   "metadata": {},
   "outputs": [],
   "source": [
    "def twoSum(self, nums: List[int], target: int) -> List[int]:\n",
    "    num_map = {}  # val -> index\n",
    "    \n",
    "    for i, num in enumerate(nums):\n",
    "        complement = target - num\n",
    "        if complement in num_map:\n",
    "            return [num_map[complement], i]\n",
    "        num_map[num] = i"
   ]
  },
  {
   "cell_type": "code",
   "execution_count": 3,
   "metadata": {},
   "outputs": [],
   "source": [
    "# # I don't understand the way looping works here?\n",
    "# # print(list(enumerate([1,2,3,4,5,5,5,4,3]))) # <enumerate object at 0x7f8b1c1b3b40>\n",
    "# for i, num in enumerate([1,2,3,4,5,5,5,4,3]):\n",
    "#     print(i, num) # 0 1 1 2 2 3 3 4 4 5 5 6 5 7 5 8 4 9 3\n",
    "# print(\"----------------------------------------\")\n",
    "# nums = [2, 7, 11, 15]\n",
    "# # when we write this loop that python actually does is:\n",
    "# # that is takes each element out of the iterable object and assigns it to the variable num\n",
    "# # and then executes the block of code for each element which is num, right?\n",
    "# # correct me if I'm wrong.\n",
    "# for num in nums:\n",
    "#     print(num) # 2 7 11 15"
   ]
  },
  {
   "cell_type": "markdown",
   "metadata": {},
   "source": [
    "Sorting Basd approach:"
   ]
  },
  {
   "cell_type": "code",
   "execution_count": 4,
   "metadata": {},
   "outputs": [],
   "source": [
    "def twoSum(self, nums: List[int], target: int) -> List[int]:\n",
    "    # Create list of (number, index) pairs\n",
    "    nums_with_index = [(num, i) for i, num in enumerate(nums)]\n",
    "    # Sort by number\n",
    "    nums_with_index.sort(key=lambda x: x[0])\n",
    "    \n",
    "    left, right = 0, len(nums) - 1\n",
    "    while left < right:\n",
    "        curr_sum = nums_with_index[left][0] + nums_with_index[right][0]\n",
    "        if curr_sum == target:\n",
    "            return [nums_with_index[left][1], nums_with_index[right][1]]\n",
    "        elif curr_sum < target:\n",
    "            left += 1\n",
    "        else:\n",
    "            right -= 1"
   ]
  }
 ],
 "metadata": {
  "kernelspec": {
   "display_name": "Python 3",
   "language": "python",
   "name": "python3"
  },
  "language_info": {
   "codemirror_mode": {
    "name": "ipython",
    "version": 3
   },
   "file_extension": ".py",
   "mimetype": "text/x-python",
   "name": "python",
   "nbconvert_exporter": "python",
   "pygments_lexer": "ipython3",
   "version": "3.11.6"
  }
 },
 "nbformat": 4,
 "nbformat_minor": 2
}
