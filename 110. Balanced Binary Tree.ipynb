{
 "cells": [
  {
   "cell_type": "code",
   "execution_count": 1,
   "metadata": {},
   "outputs": [],
   "source": [
    "# Definition for a binary tree node.\n",
    "# class TreeNode(object):\n",
    "#     def __init__(self, val=0, left=None, right=None):\n",
    "#         self.val = val\n",
    "#         self.left = left\n",
    "#         self.right = right\n",
    "class Solution(object):\n",
    "    def isBalanced(self, root):\n",
    "        # Helper function to check height\n",
    "        def checkHeight(node):\n",
    "            if not node:\n",
    "                return 0  # Base case: height of an empty subtree is 0\n",
    "\n",
    "            leftHeight = checkHeight(node.left)\n",
    "            rightHeight = checkHeight(node.right)\n",
    "\n",
    "            if (\n",
    "                leftHeight == -1\n",
    "                or rightHeight == -1\n",
    "                or abs(leftHeight - rightHeight) > 1\n",
    "            ):\n",
    "                return -1  # Not balanced\n",
    "\n",
    "            return max(leftHeight, rightHeight) + 1  # Return height of the subtree\n",
    "\n",
    "        return checkHeight(root) != -1"
   ]
  }
 ],
 "metadata": {
  "kernelspec": {
   "display_name": "Python 3",
   "language": "python",
   "name": "python3"
  },
  "language_info": {
   "codemirror_mode": {
    "name": "ipython",
    "version": 3
   },
   "file_extension": ".py",
   "mimetype": "text/x-python",
   "name": "python",
   "nbconvert_exporter": "python",
   "pygments_lexer": "ipython3",
   "version": "3.13.0"
  }
 },
 "nbformat": 4,
 "nbformat_minor": 2
}
