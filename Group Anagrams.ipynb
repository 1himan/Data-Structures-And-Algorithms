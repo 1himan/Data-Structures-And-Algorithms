{
 "cells": [
  {
   "cell_type": "code",
   "execution_count": 54,
   "metadata": {},
   "outputs": [
    {
     "name": "stdout",
     "output_type": "stream",
     "text": [
      "True\n",
      "False\n",
      "False\n",
      "[['hello', 'ohell'], ['world'], ['wosld']]\n"
     ]
    }
   ],
   "source": [
    "def my_sort(s):\n",
    "    chars=list(s)\n",
    "    n=len(chars)\n",
    "    for i in range(n):\n",
    "        for j in range(i+1,n):\n",
    "            if chars[i]>chars[j]:\n",
    "                chars[i],chars[j]=chars[j],chars[i]\n",
    "    returnStr=\"\"\n",
    "    for char in chars:\n",
    "        returnStr+=char\n",
    "    return returnStr\n",
    "\n",
    "def areAnagram(str1,str2):\n",
    "    # If lengths are different, they can't be anagrams\n",
    "    if len(str1) != len(str2):\n",
    "        return False\n",
    "    \n",
    "    # Sort both strings and compare\n",
    "    sorted_str1 = my_sort(str1)\n",
    "    sorted_str2 = my_sort(str2)\n",
    "    \n",
    "    return (sorted_str1 == sorted_str2)\n",
    "print(areAnagram(\"hello\",\"ohell\")) # True\n",
    "print(areAnagram(\"hello\",\"wosld\")) # False - this is also giving true for some reason?\n",
    "print(areAnagram(\"hello\",\"world\")) # False - this is also giving true for some reason?\n",
    "# why is this happening? \n",
    "# I am not returning anything from my_sort function so it is returning None\n",
    "\n",
    "def groupAnagrams(strs):\n",
    "    # Handle empty input\n",
    "    if not strs:\n",
    "        return []\n",
    "    \n",
    "    result = []\n",
    "    used = [False] * len(strs)\n",
    "    print(used)\n",
    "    \n",
    "    for i in range(len(strs)):\n",
    "        # Skip if this string has already been grouped\n",
    "        if used[i]:\n",
    "            continue\n",
    "            \n",
    "        # Start a new group with current string\n",
    "        current_group = [strs[i]]\n",
    "        used[i] = True\n",
    "        \n",
    "        # Compare with remaining strings\n",
    "        for j in range(i + 1, len(strs)):\n",
    "            if not used[j] and areAnagram(strs[i], strs[j]):\n",
    "                current_group.append(strs[j])\n",
    "                used[j] = True\n",
    "        \n",
    "        result.append(current_group)\n",
    "    \n",
    "    return result\n",
    "print(groupAnagrams([\"hello\",\"world\",\"ohell\",\"wosld\"])) # [['hello', 'ohell'], ['world', 'wosld']]"
   ]
  }
 ],
 "metadata": {
  "kernelspec": {
   "display_name": "Python 3",
   "language": "python",
   "name": "python3"
  },
  "language_info": {
   "codemirror_mode": {
    "name": "ipython",
    "version": 3
   },
   "file_extension": ".py",
   "mimetype": "text/x-python",
   "name": "python",
   "nbconvert_exporter": "python",
   "pygments_lexer": "ipython3",
   "version": "3.11.6"
  }
 },
 "nbformat": 4,
 "nbformat_minor": 2
}
