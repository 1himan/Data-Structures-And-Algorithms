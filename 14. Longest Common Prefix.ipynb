{
 "cells": [
  {
   "cell_type": "code",
   "execution_count": 2,
   "metadata": {},
   "outputs": [],
   "source": [
    "from typing import List\n",
    "class Solution:\n",
    "    def longestCommonPrefix(self, strs: List[str]) -> str:\n",
    "        firstStr=strs[0]\n",
    "        for string in strs:\n",
    "            if string == \"\":\n",
    "                return \"\"\n",
    "            i=0\n",
    "            while i < len(string):\n",
    "                if firstStr[i] == string[i]:\n",
    "                    i+=1\n",
    "                else:\n",
    "                    return firstStr[0:i]\n",
    "        return firstStr"
   ]
  },
  {
   "cell_type": "markdown",
   "metadata": {},
   "source": [
    "### Approach 1: Horizontal Scanning\n",
    "Compare the first string with each subsequent string and shorten the prefix until it matches.\n",
    "\n",
    "#### **Algorithm**\n",
    "1. Take the first string as the prefix.\n",
    "2. Compare it with every other string in the array.\n",
    "3. Shorten the prefix until it matches the beginning of each string.\n",
    "4. Return the prefix."
   ]
  },
  {
   "cell_type": "code",
   "execution_count": 5,
   "metadata": {},
   "outputs": [
    {
     "name": "stdout",
     "output_type": "stream",
     "text": [
      "flower\n",
      "flowe\n",
      "flow\n",
      "flo\n"
     ]
    },
    {
     "data": {
      "text/plain": [
       "'fl'"
      ]
     },
     "execution_count": 5,
     "metadata": {},
     "output_type": "execute_result"
    }
   ],
   "source": [
    "# Horizontal scanning \n",
    "def longestCommonPrefix2(self, strs: List[str]) -> str:\n",
    "        if not strs:\n",
    "            return \"\"\n",
    "        prefix = strs[0]\n",
    "        for s in strs[1:]:\n",
    "            while not s.startswith(prefix):\n",
    "                print(prefix)\n",
    "                prefix = prefix[:-1]\n",
    "                if not prefix:\n",
    "                    return \"\"\n",
    "        return prefix\n",
    "longestCommonPrefix2(0, [\"flower\",\"flow\",\"flight\"])"
   ]
  },
  {
   "cell_type": "markdown",
   "metadata": {},
   "source": [
    "#### **Complexity**\n",
    "- **Time Complexity**: \\(O(n . m)\\), where \\(n\\) is the number of strings and \\(m\\) is the average length of the strings.\n",
    "- **Space Complexity**: \\(O(1)\\).\n"
   ]
  },
  {
   "cell_type": "markdown",
   "metadata": {},
   "source": [
    "### Approach 2: Vertical Scanning\n",
    "Compare characters column-by-column (character by character) across all strings.\n",
    "\n",
    "#### **Algorithm**\n",
    "1. Start with the first character of all strings and check if they match.\n",
    "2. Continue to the next character until a mismatch is found.\n",
    "3. Return the characters before the mismatch."
   ]
  },
  {
   "cell_type": "code",
   "execution_count": 41,
   "metadata": {},
   "outputs": [],
   "source": [
    "def longestCommonPrefix3(strs):\n",
    "    if not strs:\n",
    "        return \"\"\n",
    "    \n",
    "    for i in range(len(strs[0])):\n",
    "        char = strs[0][i]\n",
    "        for s in strs[1:]:\n",
    "            if i >= len(s) or s[i] != char:\n",
    "                return strs[0][:i]\n",
    "    return strs[0]"
   ]
  },
  {
   "cell_type": "markdown",
   "metadata": {},
   "source": [
    "#### **Complexity**\n",
    "- **Time Complexity**: \\(O(n . m)\\), where \\(n\\) is the number of strings and \\(m\\) is the length of the shortest string.\n",
    "- **Space Complexity**: \\(O(1)\\)."
   ]
  },
  {
   "cell_type": "markdown",
   "metadata": {},
   "source": [
    "### Approach 3: Divide and Conquer\n",
    "Divide the list into two halves, find the prefix for each half, and merge the results.\n",
    "\n",
    "#### **Algorithm**\n",
    "1. Split the array into two halves.\n",
    "2. Recursively find the common prefix for each half.\n",
    "3. Merge the prefixes by comparing character by character.\n",
    "\n",
    "#### **Code**\n",
    "```python\n",
    "def longestCommonPrefix(strs):\n",
    "    def commonPrefix(left, right):\n",
    "        minLength = min(len(left), len(right))\n",
    "        for i in range(minLength):\n",
    "            if left[i] != right[i]:\n",
    "                return left[:i]\n",
    "        return left[:minLength]\n",
    "    \n",
    "    def divideAndConquer(strs, l, r):\n",
    "        if l == r:\n",
    "            return strs[l]\n",
    "        mid = (l + r) // 2\n",
    "        left = divideAndConquer(strs, l, mid)\n",
    "        right = divideAndConquer(strs, mid + 1, r)\n",
    "        return commonPrefix(left, right)\n",
    "    \n",
    "    if not strs:\n",
    "        return \"\"\n",
    "    return divideAndConquer(strs, 0, len(strs) - 1)\n",
    "```\n",
    "\n",
    "#### **Complexity**\n",
    "- **Time Complexity**: \\(O(n \\cdot m)\\).\n",
    "- **Space Complexity**: \\(O(\\log n)\\), due to recursion stack.\n",
    "\n",
    "---\n",
    "\n",
    "### Approach 4: Binary Search\n",
    "Use binary search on the length of the prefix.\n",
    "\n",
    "#### **Algorithm**\n",
    "1. Find the shortest string in the array.\n",
    "2. Perform binary search on the prefix length.\n",
    "3. Check if all strings share the prefix of a given length.\n",
    "\n",
    "#### **Code**\n",
    "```python\n",
    "def longestCommonPrefix(strs):\n",
    "    if not strs:\n",
    "        return \"\"\n",
    "    \n",
    "    def isCommonPrefix(length):\n",
    "        prefix = strs[0][:length]\n",
    "        return all(s.startswith(prefix) for s in strs)\n",
    "    \n",
    "    minLength = min(len(s) for s in strs)\n",
    "    low, high = 0, minLength\n",
    "    \n",
    "    while low <= high:\n",
    "        mid = (low + high) // 2\n",
    "        if isCommonPrefix(mid):\n",
    "            low = mid + 1\n",
    "        else:\n",
    "            high = mid - 1\n",
    "    \n",
    "    return strs[0][:(low + high) // 2]\n",
    "```\n",
    "\n",
    "#### **Complexity**\n",
    "- **Time Complexity**: \\(O(n \\cdot \\log m)\\), where \\(n\\) is the number of strings and \\(m\\) is the length of the shortest string.\n",
    "- **Space Complexity**: \\(O(1)\\).\n",
    "\n",
    "---\n",
    "\n",
    "### Comparison of Approaches\n",
    "\n",
    "| Approach             | Time Complexity  | Space Complexity | Notes                                   |\n",
    "|----------------------|------------------|------------------|-----------------------------------------|\n",
    "| Horizontal Scanning  | \\(O(n \\cdot m)\\) | \\(O(1)\\)         | Simple and intuitive.                   |\n",
    "| Vertical Scanning    | \\(O(n \\cdot m)\\) | \\(O(1)\\)         | Useful for early mismatches.            |\n",
    "| Divide and Conquer   | \\(O(n \\cdot m)\\) | \\(O(\\log n)\\)    | Good for theoretical understanding.     |\n",
    "| Binary Search        | \\(O(n \\cdot \\log m)\\) | \\(O(1)\\)    | Efficient for large input sizes.        |\n",
    "\n",
    "---\n",
    "\n",
    "### Which Approach Should You Use?\n",
    "1. For simplicity, use **Horizontal Scanning** or **Vertical Scanning**.\n",
    "2. For efficiency, use **Binary Search** if the input size is large.\n",
    "\n",
    "Let me know if you'd like a detailed explanation of any specific approach! 🚀"
   ]
  }
 ],
 "metadata": {
  "kernelspec": {
   "display_name": "Python 3",
   "language": "python",
   "name": "python3"
  },
  "language_info": {
   "codemirror_mode": {
    "name": "ipython",
    "version": 3
   },
   "file_extension": ".py",
   "mimetype": "text/x-python",
   "name": "python",
   "nbconvert_exporter": "python",
   "pygments_lexer": "ipython3",
   "version": "3.11.6"
  }
 },
 "nbformat": 4,
 "nbformat_minor": 2
}
