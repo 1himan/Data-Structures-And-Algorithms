{
 "cells": [
  {
   "cell_type": "markdown",
   "metadata": {},
   "source": [
    "# 118. Pascal's Triangle"
   ]
  },
  {
   "cell_type": "markdown",
   "metadata": {},
   "source": [
    "## Two Pointer Approach - This is the only best pattern I know :), as of right now. \n",
    "\n",
    "Great question - solved it on all on my own, without needing anyone's help. - Good. This is my first easy question which I solved within 30 minutes without anyone's help."
   ]
  },
  {
   "cell_type": "code",
   "execution_count": null,
   "metadata": {},
   "outputs": [
    {
     "name": "stdout",
     "output_type": "stream",
     "text": [
      "[[1], [1, 1], [1, 2, 1], [1, 3, 3, 1], [1, 4, 6, 4, 1]]\n"
     ]
    }
   ],
   "source": [
    "def generate(numRows):\n",
    "    result=[]\n",
    "    for i in range(1,numRows+1):\n",
    "        if i<=2:\n",
    "            result.append([1]*i)\n",
    "        if i>=3:\n",
    "            result.append([1]*i)\n",
    "            a,b=0,1\n",
    "            for j in range(1,len(result[i-2])): \n",
    "                result[i-1][j]=result[i - 2][a] + result[i - 2][b]\n",
    "                a+=1\n",
    "                b+=1\n",
    "    return result\n",
    "print(generate(5))"
   ]
  }
 ],
 "metadata": {
  "language_info": {
   "name": "python"
  }
 },
 "nbformat": 4,
 "nbformat_minor": 2
}
