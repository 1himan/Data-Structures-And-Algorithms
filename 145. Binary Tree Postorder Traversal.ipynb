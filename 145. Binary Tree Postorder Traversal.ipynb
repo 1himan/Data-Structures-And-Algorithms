{
 "cells": [
  {
   "cell_type": "code",
   "execution_count": 2,
   "metadata": {},
   "outputs": [],
   "source": [
    "def postorderTraversal(root):\n",
    "    if not root:\n",
    "        return []\n",
    "    \n",
    "    result=[]\n",
    "    stack=[root]\n",
    "    while stack:\n",
    "        node=stack.pop()\n",
    "        # instead of inserting elements in the end (.append)\n",
    "        # use insert(0, value) to insert the `value` at the \n",
    "        # start of the result array\n",
    "        result.insert(0, node.val)\n",
    "        if node.left:\n",
    "            stack.append(node.left)\n",
    "        if node.right:\n",
    "            stack.append(node.right)\n",
    "    return result"
   ]
  }
 ],
 "metadata": {
  "kernelspec": {
   "display_name": "Python 3",
   "language": "python",
   "name": "python3"
  },
  "language_info": {
   "codemirror_mode": {
    "name": "ipython",
    "version": 3
   },
   "file_extension": ".py",
   "mimetype": "text/x-python",
   "name": "python",
   "nbconvert_exporter": "python",
   "pygments_lexer": "ipython3",
   "version": "3.13.0"
  }
 },
 "nbformat": 4,
 "nbformat_minor": 2
}
