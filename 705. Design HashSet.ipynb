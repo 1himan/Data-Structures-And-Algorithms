{
 "cells": [
  {
   "cell_type": "code",
   "execution_count": 7,
   "metadata": {},
   "outputs": [],
   "source": [
    "class MyHashSet:\n",
    "    def __init__(self):\n",
    "        self.bucket_size = 10000  # Number of buckets\n",
    "        self.buckets = [[] for _ in range(self.bucket_size)]  # Initialize buckets\n",
    "    # this is just a basic hashing function\n",
    "    def _hash(self, key):\n",
    "        return key % self.bucket_size  # Hash function\n",
    "\n",
    "    def add(self, key: int) -> None:\n",
    "        bucket_index = self._hash(key)\n",
    "        bucket = self.buckets[bucket_index]\n",
    "        if key not in bucket:  # Avoid duplicates\n",
    "            bucket.append(key)\n",
    "        else:\n",
    "            return \"Key aready exists\" \n",
    "\n",
    "    def remove(self, key: int) -> None:\n",
    "        bucket_index = self._hash(key)\n",
    "        bucket = self.buckets[bucket_index]\n",
    "        if key in bucket:\n",
    "            bucket.remove(key)\n",
    "        else:\n",
    "            return \"Key does not exist\"\n",
    "\n",
    "    def contains(self, key: int) -> bool:\n",
    "        bucket_index = self._hash(key)\n",
    "        bucket = self.buckets[bucket_index]\n",
    "        return key in bucket"
   ]
  },
  {
   "cell_type": "code",
   "execution_count": 9,
   "metadata": {},
   "outputs": [
    {
     "name": "stdout",
     "output_type": "stream",
     "text": [
      "True\n",
      "False\n",
      "Key aready exists\n",
      "False\n"
     ]
    }
   ],
   "source": [
    "hash_set = MyHashSet()\n",
    "hash_set.add(1)\n",
    "hash_set.add(2)\n",
    "print(hash_set.contains(1))  # True\n",
    "print(hash_set.contains(3))  # False\n",
    "hash_set.add(2)\n",
    "print(hash_set.add(2))  # True\n",
    "hash_set.remove(2)\n",
    "print(hash_set.contains(2))  # False"
   ]
  }
 ],
 "metadata": {
  "kernelspec": {
   "display_name": "Python 3",
   "language": "python",
   "name": "python3"
  },
  "language_info": {
   "codemirror_mode": {
    "name": "ipython",
    "version": 3
   },
   "file_extension": ".py",
   "mimetype": "text/x-python",
   "name": "python",
   "nbconvert_exporter": "python",
   "pygments_lexer": "ipython3",
   "version": "3.11.6"
  }
 },
 "nbformat": 4,
 "nbformat_minor": 2
}
