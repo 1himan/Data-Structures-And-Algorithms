{
 "cells": [
  {
   "cell_type": "markdown",
   "metadata": {},
   "source": [
    "# My approach"
   ]
  },
  {
   "cell_type": "code",
   "execution_count": 8,
   "metadata": {},
   "outputs": [
    {
     "name": "stdout",
     "output_type": "stream",
     "text": [
      "Intersection at node with value: 8\n"
     ]
    }
   ],
   "source": [
    "class ListNode:\n",
    "    def __init__(self, val=0, next=None):\n",
    "        self.val = val\n",
    "        self.next = next\n",
    "\n",
    "    def __repr__(self):\n",
    "        # This will show the value of the node and a link to the next node's value (if it exists).\n",
    "        return (\n",
    "            f\"({self.val} -> {self.next.val if self.next else None})\"\n",
    "        )\n",
    "\n",
    "def getIntersectionNode( headA, headB):\n",
    "    if not headA.next and not headB.next and headA == headB:\n",
    "        return headA\n",
    "    if not headA.next and not headB.next and headA != headB:\n",
    "        return None\n",
    "    if headA == headB:\n",
    "        return headA\n",
    "    mySet = set()\n",
    "    mySet.add(headA)\n",
    "    mySet.add(headB)\n",
    "    node1, node2 = headA, headB\n",
    "    while node1 and node2:\n",
    "        if node1.next == node2.next:\n",
    "            return node1.next\n",
    "        if node1.next in mySet:\n",
    "            return node1.next\n",
    "        if node2.next in mySet:\n",
    "            return node2.next\n",
    "        mySet.add(node1.next)\n",
    "        mySet.add(node2.next)\n",
    "        node1 = node1.next\n",
    "        node2 = node2.next\n",
    "    return None\n",
    "\n",
    "\n",
    "def printIntersectionNode(intersection_node):\n",
    "    if intersection_node:\n",
    "        print(\"Intersection at node with value:\", intersection_node.val)\n",
    "    else:\n",
    "        print(\"No intersection.\")\n",
    "\n",
    "\n",
    "# Create nodes for intersection\n",
    "intersection = ListNode(8, ListNode(10))\n",
    "\n",
    "# Create first linked list: 3 -> 6 -> 9 -> 8 -> 10\n",
    "headA = ListNode(3, ListNode(6, ListNode(9, intersection)))\n",
    "\n",
    "# Create second linked list: 4 -> 8 -> 10\n",
    "headB = ListNode(4, intersection)\n",
    "\n",
    "# Test the function\n",
    "result = getIntersectionNode(headA, headB)\n",
    "printIntersectionNode(result)"
   ]
  },
  {
   "cell_type": "markdown",
   "metadata": {},
   "source": [
    "# The better approach"
   ]
  },
  {
   "cell_type": "markdown",
   "metadata": {},
   "source": [
    "The approach we used with a set to keep track of visited nodes is a good start, but it can be optimized. The problem can be solved in a more efficient way using two pointers without any extra space. Here’s a streamlined solution for **LeetCode Problem 160 (Intersection of Two Linked Lists)**:\n",
    "\n",
    "### Optimal Two-Pointer Solution\n",
    "\n",
    "The idea is to use two pointers, `pA` and `pB`, initialized at the heads of the two lists. Then, we move them forward until they reach the intersection node or the end of the lists.\n",
    "\n",
    "1. If `pA` reaches the end of list A, we reset it to the head of list B.\n",
    "2. Similarly, if `pB` reaches the end of list B, we reset it to the head of list A.\n",
    "3. If the lists intersect, `pA` and `pB` will eventually meet at the intersection node. If they don’t intersect, both `pA` and `pB` will eventually reach `None` at the same time, ending the loop.\n",
    "\n",
    "This works because the combined lengths (list A + list B) are the same for both pointers after they \"swap\" lists, ensuring they either meet at the intersection or reach the end of both lists.\n",
    "\n",
    "Here's the code for this approach:"
   ]
  },
  {
   "cell_type": "code",
   "execution_count": 1,
   "metadata": {},
   "outputs": [],
   "source": [
    "class Solution:\n",
    "    def getIntersectionNode(self, headA, headB):\n",
    "        if not headA or not headB:\n",
    "            return None\n",
    "\n",
    "        # Initialize two pointers\n",
    "        pA, pB = headA, headB\n",
    "\n",
    "        # Traverse until they meet or both reach the end\n",
    "        while pA != pB:\n",
    "            # Move each pointer to the next node, or switch to the other head\n",
    "            # man oh man, this logic just blew my mind\n",
    "            pA = pA.next if pA else headB\n",
    "            pB = pB.next if pB else headA\n",
    "        # Either they meet at the intersection or both are None\n",
    "        return pA"
   ]
  },
  {
   "cell_type": "markdown",
   "metadata": {},
   "source": [
    "### Explanation\n",
    "\n",
    "- **No Extra Space**: This solution doesn't use extra space for a set or dictionary, making it more memory-efficient.\n",
    "- **Time Complexity**: \\(O(m + n)\\), where \\(m\\) and \\(n\\) are the lengths of the two lists. The pointers only traverse each list at most twice.\n",
    "- **Space Complexity**: \\(O(1)\\), as we only use two pointers and no additional data structures.\n",
    "\n",
    "### Example Walkthrough\n",
    "\n",
    "Let's say:\n",
    "- List A: `1 -> 3 -> 5 -> 7 -> 9 -> 11`\n",
    "- List B: `2 -> 4 -> 9 -> 11`\n",
    "\n",
    "The two lists intersect at node `9`.\n",
    "\n",
    "1. Initialize `pA` at the head of List A (`1`) and `pB` at the head of List B (`2`).\n",
    "2. Move both pointers one step at a time. When `pA` reaches the end of List A, set it to the head of List B. When `pB` reaches the end of List B, set it to the head of List A.\n",
    "3. The two pointers will eventually meet at the intersection node (`9`).\n",
    "\n",
    "This approach is efficient and widely used for solving intersection problems in linked lists. But you might think that why, just why switching helps, right? Let's see that as well:\n",
    "\n",
    "The reason we switch `pA` to `headB` and `pB` to `headA` when they reach the end of their respective lists is to equalize the lengths of the paths they traverse. Here’s a breakdown of how this helps:\n",
    "\n",
    "### Why Switching Helps\n",
    "Imagine the two linked lists have different lengths:\n",
    "- List A has `m` nodes.\n",
    "- List B has `n` nodes.\n",
    "  \n",
    "Without switching, if we move the pointers forward, they will reach the end at different times due to the difference in length. However, by switching them to the other list’s head when they reach the end, both pointers will traverse the same total distance by the time they either meet or reach the end of both lists.\n",
    "\n",
    "### How it Works\n",
    "1. **When `pA` reaches the end of List A**, it’s set to `headB`, which means it will now traverse List B.\n",
    "2. **When `pB` reaches the end of List B**, it’s set to `headA`, so it starts traversing List A.\n",
    "\n",
    "By doing this, both `pA` and `pB` will have traversed `m + n` steps in total (one pass through List A and one pass through List B). If there’s an intersection, the two pointers will meet at that node after `m + n` steps. If there’s no intersection, they’ll both reach the end (`None`) at the same time.\n",
    "\n",
    "### Example Walkthrough\n",
    "Consider the following example:\n",
    "- **List A**: `1 -> 3 -> 5 -> 7 -> 9 -> 11`\n",
    "- **List B**: `2 -> 4 -> 9 -> 11`\n",
    "\n",
    "They intersect at node with value `9`.\n",
    "\n",
    "1. **Initial Setup**: `pA` starts at `1` (head of List A) and `pB` starts at `2` (head of List B).\n",
    "2. **Traversing and Switching**:\n",
    "   - `pA` and `pB` move forward one node at a time.\n",
    "   - When `pA` reaches the end of List A, it’s switched to `headB` (value `2`).\n",
    "   - When `pB` reaches the end of List B, it’s switched to `headA` (value `1`).\n",
    "3. **Meeting at Intersection**:\n",
    "   - By the time both `pA` and `pB` reach node `9`, they’ve each traversed `m + n` steps, ensuring they meet at the intersection.\n",
    "\n",
    "If there’s no intersection, they’ll both eventually reach `None` at the same time after traversing `m + n` steps.\n",
    "\n",
    "This switching strategy works because it balances out the different lengths of the lists, allowing the pointers to sync up at the intersection point or end of the lists."
   ]
  }
 ],
 "metadata": {
  "kernelspec": {
   "display_name": "Python 3",
   "language": "python",
   "name": "python3"
  },
  "language_info": {
   "codemirror_mode": {
    "name": "ipython",
    "version": 3
   },
   "file_extension": ".py",
   "mimetype": "text/x-python",
   "name": "python",
   "nbconvert_exporter": "python",
   "pygments_lexer": "ipython3",
   "version": "3.13.0"
  }
 },
 "nbformat": 4,
 "nbformat_minor": 2
}
