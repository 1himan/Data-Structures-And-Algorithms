{
 "cells": [
  {
   "cell_type": "code",
   "execution_count": 8,
   "metadata": {},
   "outputs": [
    {
     "name": "stdout",
     "output_type": "stream",
     "text": [
      "Intersection at node with value: 8\n"
     ]
    }
   ],
   "source": [
    "class ListNode:\n",
    "    def __init__(self, val=0, next=None):\n",
    "        self.val = val\n",
    "        self.next = next\n",
    "\n",
    "    def __repr__(self):\n",
    "        # This will show the value of the node and a link to the next node's value (if it exists).\n",
    "        return (\n",
    "            f\"({self.val} -> {self.next.val if self.next else None})\"\n",
    "        )\n",
    "\n",
    "def getIntersectionNode( headA, headB):\n",
    "    if not headA.next and not headB.next and headA == headB:\n",
    "        return headA\n",
    "    if not headA.next and not headB.next and headA != headB:\n",
    "        return None\n",
    "    if headA == headB:\n",
    "        return headA\n",
    "    mySet = set()\n",
    "    mySet.add(headA)\n",
    "    mySet.add(headB)\n",
    "    node1, node2 = headA, headB\n",
    "    while node1 and node2:\n",
    "        if node1.next == node2.next:\n",
    "            return node1.next\n",
    "        if node1.next in mySet:\n",
    "            return node1.next\n",
    "        if node2.next in mySet:\n",
    "            return node2.next\n",
    "        mySet.add(node1.next)\n",
    "        mySet.add(node2.next)\n",
    "        node1 = node1.next\n",
    "        node2 = node2.next\n",
    "    return None\n",
    "\n",
    "\n",
    "def printIntersectionNode(intersection_node):\n",
    "    if intersection_node:\n",
    "        print(\"Intersection at node with value:\", intersection_node.val)\n",
    "    else:\n",
    "        print(\"No intersection.\")\n",
    "\n",
    "\n",
    "# Create nodes for intersection\n",
    "intersection = ListNode(8, ListNode(10))\n",
    "\n",
    "# Create first linked list: 3 -> 6 -> 9 -> 8 -> 10\n",
    "headA = ListNode(3, ListNode(6, ListNode(9, intersection)))\n",
    "\n",
    "# Create second linked list: 4 -> 8 -> 10\n",
    "headB = ListNode(4, intersection)\n",
    "\n",
    "# Test the function\n",
    "result = getIntersectionNode(headA, headB)\n",
    "printIntersectionNode(result)"
   ]
  },
  {
   "cell_type": "markdown",
   "metadata": {},
   "source": [
    "# The better approach"
   ]
  },
  {
   "cell_type": "code",
   "execution_count": 10,
   "metadata": {},
   "outputs": [],
   "source": [
    "class Solution:\n",
    "    def getIntersectionNode(self, headA, headB):\n",
    "        if not headA or not headB:\n",
    "            return None\n",
    "\n",
    "        # Initialize two pointers\n",
    "        pA, pB = headA, headB\n",
    "\n",
    "        # Traverse until they meet or both reach the end\n",
    "        while pA != pB:\n",
    "            # Move each pointer to the next node, or switch to the other head\n",
    "            pA = pA.next if pA else headB\n",
    "            pB = pB.next if pB else headA\n",
    "\n",
    "        # Either they meet at the intersection or both are None\n",
    "        return pA"
   ]
  }
 ],
 "metadata": {
  "kernelspec": {
   "display_name": "Python 3",
   "language": "python",
   "name": "python3"
  },
  "language_info": {
   "codemirror_mode": {
    "name": "ipython",
    "version": 3
   },
   "file_extension": ".py",
   "mimetype": "text/x-python",
   "name": "python",
   "nbconvert_exporter": "python",
   "pygments_lexer": "ipython3",
   "version": "3.13.0"
  }
 },
 "nbformat": 4,
 "nbformat_minor": 2
}
