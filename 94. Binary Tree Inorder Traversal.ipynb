{
 "cells": [
  {
   "cell_type": "markdown",
   "metadata": {},
   "source": [
    "In binary trees, inorder traversal is one of the tree traversal techniques where you visit nodes in a specific order:\n",
    "\n",
    "- Visit the left subtree (starting from the current node).\n",
    "- Visit the current node (or root node).\n",
    "- Visit the right subtree (starting from the current node).\n",
    "\n",
    "This traversal is called \"inorder\" because it visits the nodes in an order that corresponds to how they would appear in a sorted sequence if it were a binary search tree (BST)."
   ]
  },
  {
   "cell_type": "code",
   "execution_count": 1,
   "metadata": {},
   "outputs": [],
   "source": [
    "# Definition for a binary tree node.\n",
    "# class TreeNode(object):\n",
    "#     def __init__(self, val=0, left=None, right=None):\n",
    "#         self.val = val\n",
    "#         self.left = left\n",
    "#         self.right = right\n",
    "class Solution(object):\n",
    "    def inorderTraversal(self, root):\n",
    "        if root is None:\n",
    "            return []\n",
    "        return self.inorderTraversal(root.left) + [root.val] + self.inorderTraversal(root.right)"
   ]
  }
 ],
 "metadata": {
  "kernelspec": {
   "display_name": "Python 3",
   "language": "python",
   "name": "python3"
  },
  "language_info": {
   "codemirror_mode": {
    "name": "ipython",
    "version": 3
   },
   "file_extension": ".py",
   "mimetype": "text/x-python",
   "name": "python",
   "nbconvert_exporter": "python",
   "pygments_lexer": "ipython3",
   "version": "3.13.0"
  }
 },
 "nbformat": 4,
 "nbformat_minor": 2
}
